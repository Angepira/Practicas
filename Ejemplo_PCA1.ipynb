{
 "cells": [
  {
   "cell_type": "code",
   "execution_count": 22,
   "metadata": {},
   "outputs": [
    {
     "data": {
      "text/html": [
       "<div>\n",
       "<style scoped>\n",
       "    .dataframe tbody tr th:only-of-type {\n",
       "        vertical-align: middle;\n",
       "    }\n",
       "\n",
       "    .dataframe tbody tr th {\n",
       "        vertical-align: top;\n",
       "    }\n",
       "\n",
       "    .dataframe thead th {\n",
       "        text-align: right;\n",
       "    }\n",
       "</style>\n",
       "<table border=\"1\" class=\"dataframe\">\n",
       "  <thead>\n",
       "    <tr style=\"text-align: right;\">\n",
       "      <th></th>\n",
       "      <th>Educación</th>\n",
       "      <th>edad</th>\n",
       "      <th>Salud</th>\n",
       "      <th>Golosinas</th>\n",
       "    </tr>\n",
       "    <tr>\n",
       "      <th>nombre</th>\n",
       "      <th></th>\n",
       "      <th></th>\n",
       "      <th></th>\n",
       "      <th></th>\n",
       "    </tr>\n",
       "  </thead>\n",
       "  <tbody>\n",
       "    <tr>\n",
       "      <th>Juan</th>\n",
       "      <td>1200</td>\n",
       "      <td>35</td>\n",
       "      <td>200</td>\n",
       "      <td>10</td>\n",
       "    </tr>\n",
       "    <tr>\n",
       "      <th>Maria</th>\n",
       "      <td>0</td>\n",
       "      <td>50</td>\n",
       "      <td>1500</td>\n",
       "      <td>15</td>\n",
       "    </tr>\n",
       "    <tr>\n",
       "      <th>Pedro</th>\n",
       "      <td>7500</td>\n",
       "      <td>22</td>\n",
       "      <td>150</td>\n",
       "      <td>0</td>\n",
       "    </tr>\n",
       "    <tr>\n",
       "      <th>Luisa</th>\n",
       "      <td>2200</td>\n",
       "      <td>45</td>\n",
       "      <td>250</td>\n",
       "      <td>10</td>\n",
       "    </tr>\n",
       "    <tr>\n",
       "      <th>Mateo</th>\n",
       "      <td>8300</td>\n",
       "      <td>18</td>\n",
       "      <td>0</td>\n",
       "      <td>20</td>\n",
       "    </tr>\n",
       "    <tr>\n",
       "      <th>Viviana</th>\n",
       "      <td>0</td>\n",
       "      <td>75</td>\n",
       "      <td>2500</td>\n",
       "      <td>10</td>\n",
       "    </tr>\n",
       "    <tr>\n",
       "      <th>Matias</th>\n",
       "      <td>0</td>\n",
       "      <td>55</td>\n",
       "      <td>1400</td>\n",
       "      <td>20</td>\n",
       "    </tr>\n",
       "    <tr>\n",
       "      <th>Gerardo</th>\n",
       "      <td>4900</td>\n",
       "      <td>20</td>\n",
       "      <td>50</td>\n",
       "      <td>10</td>\n",
       "    </tr>\n",
       "    <tr>\n",
       "      <th>Fredy</th>\n",
       "      <td>5100</td>\n",
       "      <td>23</td>\n",
       "      <td>0</td>\n",
       "      <td>15</td>\n",
       "    </tr>\n",
       "    <tr>\n",
       "      <th>Vaneza</th>\n",
       "      <td>800</td>\n",
       "      <td>49</td>\n",
       "      <td>600</td>\n",
       "      <td>0</td>\n",
       "    </tr>\n",
       "  </tbody>\n",
       "</table>\n",
       "</div>"
      ],
      "text/plain": [
       "         Educación  edad  Salud  Golosinas\n",
       "nombre                                    \n",
       "Juan          1200    35    200         10\n",
       "Maria            0    50   1500         15\n",
       "Pedro         7500    22    150          0\n",
       "Luisa         2200    45    250         10\n",
       "Mateo         8300    18      0         20\n",
       "Viviana          0    75   2500         10\n",
       "Matias           0    55   1400         20\n",
       "Gerardo       4900    20     50         10\n",
       "Fredy         5100    23      0         15\n",
       "Vaneza         800    49    600          0"
      ]
     },
     "execution_count": 22,
     "metadata": {},
     "output_type": "execute_result"
    }
   ],
   "source": [
    "import pandas as pd\n",
    "\n",
    "datos={'nombre':['Juan','Maria','Pedro','Luisa','Mateo','Viviana','Matias','Gerardo','Fredy','Vaneza'],\n",
    "        'Educación':[1200,0,7500,2200,8300,0,0,4900,5100,800],\n",
    "        'edad':[35,50,22,45,18,75,55,20,23,49],\n",
    "        'Salud':[200,1500,150,250,0,2500,1400,50,0,600],\n",
    "        'Golosinas':[10,15,0,10,20,10,20,10,15,0]}\n",
    "\n",
    "df_datos=pd.DataFrame(datos)\n",
    "df_datos.set_index('nombre', inplace=True)\n",
    "df_datos"
   ]
  },
  {
   "cell_type": "code",
   "execution_count": 23,
   "metadata": {},
   "outputs": [
    {
     "data": {
      "text/plain": [
       "array([[-0.59318458, -0.23583599, -0.57564452, -0.15075567],\n",
       "       [-0.98864096,  0.60643541,  1.03368425,  0.60302269],\n",
       "       [ 1.48296144, -0.96580454, -0.63754178, -1.6583124 ],\n",
       "       [-0.26363759,  0.32567827, -0.51374726, -0.15075567],\n",
       "       [ 1.74659903, -1.19041025, -0.82323356,  1.35680105],\n",
       "       [-0.98864096,  2.01022108,  2.27162945, -0.15075567],\n",
       "       [-0.98864096,  0.88719254,  0.90988973,  1.35680105],\n",
       "       [ 0.62613927, -1.07810739, -0.7613363 , -0.15075567],\n",
       "       [ 0.69204867, -0.90965311, -0.82323356,  0.60302269],\n",
       "       [-0.72500337,  0.55028398, -0.08046644, -1.6583124 ]])"
      ]
     },
     "execution_count": 23,
     "metadata": {},
     "output_type": "execute_result"
    }
   ],
   "source": [
    "from sklearn.preprocessing import StandardScaler\n",
    "\n",
    "escala =StandardScaler(with_mean=True, with_std=True)\n",
    "\n",
    "datos_standart=escala.fit_transform(df_datos)\n",
    "\n",
    "datos_standart\n"
   ]
  },
  {
   "cell_type": "code",
   "execution_count": 9,
   "metadata": {},
   "outputs": [
    {
     "data": {
      "text/plain": [
       "-1.6653345369377348e-16"
      ]
     },
     "execution_count": 9,
     "metadata": {},
     "output_type": "execute_result"
    }
   ],
   "source": [
    "import numpy as np\n",
    "\n",
    "np.mean(datos_standart[:,0])\n",
    "np.std(datos_standart[:,0])"
   ]
  },
  {
   "cell_type": "code",
   "execution_count": 24,
   "metadata": {},
   "outputs": [
    {
     "data": {
      "text/plain": [
       "Educación    1.023111e+07\n",
       "edad         3.524000e+02\n",
       "Salud        7.250278e+05\n",
       "Golosinas    4.888889e+01\n",
       "dtype: float64"
      ]
     },
     "execution_count": 24,
     "metadata": {},
     "output_type": "execute_result"
    }
   ],
   "source": [
    "df_datos.var()"
   ]
  },
  {
   "cell_type": "code",
   "execution_count": 25,
   "metadata": {},
   "outputs": [
    {
     "data": {
      "text/html": [
       "<div>\n",
       "<style scoped>\n",
       "    .dataframe tbody tr th:only-of-type {\n",
       "        vertical-align: middle;\n",
       "    }\n",
       "\n",
       "    .dataframe tbody tr th {\n",
       "        vertical-align: top;\n",
       "    }\n",
       "\n",
       "    .dataframe thead th {\n",
       "        text-align: right;\n",
       "    }\n",
       "</style>\n",
       "<table border=\"1\" class=\"dataframe\">\n",
       "  <thead>\n",
       "    <tr style=\"text-align: right;\">\n",
       "      <th></th>\n",
       "      <th>Educación</th>\n",
       "      <th>edad</th>\n",
       "      <th>Salud</th>\n",
       "      <th>Golosinas</th>\n",
       "    </tr>\n",
       "  </thead>\n",
       "  <tbody>\n",
       "    <tr>\n",
       "      <th>Educación</th>\n",
       "      <td>1.023111e+07</td>\n",
       "      <td>-51788.888889</td>\n",
       "      <td>-1.923333e+06</td>\n",
       "      <td>-500.000000</td>\n",
       "    </tr>\n",
       "    <tr>\n",
       "      <th>edad</th>\n",
       "      <td>-5.178889e+04</td>\n",
       "      <td>352.400000</td>\n",
       "      <td>1.453000e+04</td>\n",
       "      <td>-0.777778</td>\n",
       "    </tr>\n",
       "    <tr>\n",
       "      <th>Salud</th>\n",
       "      <td>-1.923333e+06</td>\n",
       "      <td>14530.000000</td>\n",
       "      <td>7.250278e+05</td>\n",
       "      <td>816.666667</td>\n",
       "    </tr>\n",
       "    <tr>\n",
       "      <th>Golosinas</th>\n",
       "      <td>-5.000000e+02</td>\n",
       "      <td>-0.777778</td>\n",
       "      <td>8.166667e+02</td>\n",
       "      <td>48.888889</td>\n",
       "    </tr>\n",
       "  </tbody>\n",
       "</table>\n",
       "</div>"
      ],
      "text/plain": [
       "              Educación          edad         Salud   Golosinas\n",
       "Educación  1.023111e+07 -51788.888889 -1.923333e+06 -500.000000\n",
       "edad      -5.178889e+04    352.400000  1.453000e+04   -0.777778\n",
       "Salud     -1.923333e+06  14530.000000  7.250278e+05  816.666667\n",
       "Golosinas -5.000000e+02     -0.777778  8.166667e+02   48.888889"
      ]
     },
     "execution_count": 25,
     "metadata": {},
     "output_type": "execute_result"
    }
   ],
   "source": [
    "df_datos.cov()"
   ]
  },
  {
   "cell_type": "code",
   "execution_count": 33,
   "metadata": {},
   "outputs": [
    {
     "data": {
      "text/plain": [
       "array([[-0.14833212, -0.2174737 , -0.82623564],\n",
       "       [ 1.53651798,  0.54767642, -0.08732062],\n",
       "       [-1.85709208, -1.4921768 ,  0.7784069 ],\n",
       "       [ 0.04149318, -0.23817484, -0.47642267],\n",
       "       [-2.08650216,  1.51875012,  0.54141916],\n",
       "       [ 3.04805149, -0.22896678,  0.92372279],\n",
       "       [ 1.67438015,  1.25918365, -0.20941121],\n",
       "       [-1.43943564, -0.06392102, -0.10980295],\n",
       "       [-1.37048354,  0.66744436, -0.15468149],\n",
       "       [ 0.60140275, -1.75234139, -0.37967426]])"
      ]
     },
     "execution_count": 33,
     "metadata": {},
     "output_type": "execute_result"
    }
   ],
   "source": [
    "from sklearn.decomposition import PCA\n",
    "\n",
    "pca=PCA(n_components=3)\n",
    "datos_pca=pca.fit_transform(datos_standart)\n",
    "datos_pca"
   ]
  },
  {
   "cell_type": "code",
   "execution_count": 34,
   "metadata": {},
   "outputs": [
    {
     "data": {
      "text/plain": [
       "array([0.66482365, 0.25238506, 0.07233933])"
      ]
     },
     "execution_count": 34,
     "metadata": {},
     "output_type": "execute_result"
    }
   ],
   "source": [
    "var_explicada=pca.explained_variance_ratio_\n",
    "var_explicada"
   ]
  },
  {
   "cell_type": "code",
   "execution_count": 35,
   "metadata": {},
   "outputs": [
    {
     "data": {
      "text/plain": [
       "0.9895480443172123"
      ]
     },
     "execution_count": 35,
     "metadata": {},
     "output_type": "execute_result"
    }
   ],
   "source": [
    "porcentaje_varianza=np.sum(var_explicada)\n",
    "porcentaje_varianza"
   ]
  },
  {
   "cell_type": "code",
   "execution_count": 32,
   "metadata": {},
   "outputs": [
    {
     "data": {
      "image/png": "[encoded data removed]",
      "text/plain": [
       "<Figure size 640x480 with 1 Axes>"
      ]
     },
     "metadata": {},
     "output_type": "display_data"
    }
   ],
   "source": [
    "import matplotlib.pyplot as plt\n",
    "\n",
    "nombres=df_datos.index\n",
    "plt.scatter(x=datos_pca[:,0], y=datos_pca[:,1], s=20)\n",
    "\n",
    "for i,nombre in enumerate(nombres):\n",
    "    plt.annotate(nombre, (datos_pca[i,0]-0.2,datos_pca[i,1]+0.05))\n",
    "\n",
    "plt.show()"
   ]
  },
  {
   "cell_type": "code",
   "execution_count": 40,
   "metadata": {},
   "outputs": [
    {
     "name": "stderr",
     "output_type": "stream",
     "text": [
      "c:\\Users\\SENA\\AppData\\Local\\Programs\\Python\\Python312\\Lib\\site-packages\\matplotlib\\collections.py:996: RuntimeWarning: invalid value encountered in sqrt\n",
      "  scale = np.sqrt(self._sizes) * dpi / 72.0 * self._factor\n"
     ]
    },
    {
     "data": {
      "image/png": "[encoded data removed]",
      "text/plain": [
       "<Figure size 640x480 with 1 Axes>"
      ]
     },
     "metadata": {},
     "output_type": "display_data"
    }
   ],
   "source": [
    "import matplotlib.pyplot as plt\n",
    "\n",
    "nombres=df_datos.index\n",
    "x=datos_pca[:,0]\n",
    "y=datos_pca[:,1]\n",
    "z=datos_pca[:,2]\n",
    "plt.scatter(x,y,z)\n",
    "\n",
    "\"\"\" for i,nombre in enumerate(nombres):\n",
    "    plt.annotate(nombre, (datos_pca[i,0]-0.2,datos_pca[i,1]+0.05)) \"\"\"\n",
    "\n",
    "plt.show()"
   ]
  },
  {
   "cell_type": "code",
   "execution_count": 38,
   "metadata": {},
   "outputs": [
    {
     "data": {
      "text/plain": [
       "array([-0.14833212,  1.53651798, -1.85709208,  0.04149318, -2.08650216,\n",
       "        3.04805149,  1.67438015, -1.43943564, -1.37048354,  0.60140275])"
      ]
     },
     "execution_count": 38,
     "metadata": {},
     "output_type": "execute_result"
    }
   ],
   "source": [
    "x=datos_pca[:,0]\n",
    "x"
   ]
  }
 ],
 "metadata": {
  "kernelspec": {
   "display_name": "Python 3 (ipykernel)",
   "language": "python",
   "name": "python3"
  },
  "language_info": {
   "codemirror_mode": {
    "name": "ipython",
    "version": 3
   },
   "file_extension": ".py",
   "mimetype": "text/x-python",
   "name": "python",
   "nbconvert_exporter": "python",
   "pygments_lexer": "ipython3",
   "version": "3.11.5"
  }
 },
 "nbformat": 4,
 "nbformat_minor": 2
}
