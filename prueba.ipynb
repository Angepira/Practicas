{
 "cells": [
  {
   "cell_type": "code",
   "execution_count": 32,
   "id": "f6af2bbf",
   "metadata": {},
   "outputs": [],
   "source": [
    "import pandas as pd\n",
    "import numpy as np\n",
    "import matplotlib.pyplot as plt\n",
    "\n",
    "# Cargar los datos desde un archivo de Excel\n",
    "data = pd.read_excel('Prueba_Analista.xlsx', sheet_name='Consultas')\n",
    "\n"
   ]
  },
  {
   "cell_type": "code",
   "execution_count": 33,
   "id": "76543a0d",
   "metadata": {},
   "outputs": [
    {
     "name": "stdout",
     "output_type": "stream",
     "text": [
      "<class 'pandas.core.frame.DataFrame'>\n",
      "RangeIndex: 316 entries, 0 to 315\n",
      "Data columns (total 12 columns):\n",
      " #   Column                     Non-Null Count  Dtype         \n",
      "---  ------                     --------------  -----         \n",
      " 0   Placa                      316 non-null    object        \n",
      " 1   Fabricante_x               316 non-null    object        \n",
      " 2   Año Modelo                 316 non-null    int64         \n",
      " 3   Fecha Autorización Mod     316 non-null    datetime64[ns]\n",
      " 4   Fecha de Ingreso a Taller  316 non-null    datetime64[ns]\n",
      " 5   Razon Social Taller        316 non-null    object        \n",
      " 6   Ciudad Taller              316 non-null    object        \n",
      " 7   Valor_Total                316 non-null    float64       \n",
      " 8   Taller_Autorizado          316 non-null    object        \n",
      " 9   Placa_asegurada            316 non-null    object        \n",
      " 10  Cumplimiento               316 non-null    object        \n",
      " 11  Tiempo autorización        316 non-null    int64         \n",
      "dtypes: datetime64[ns](2), float64(1), int64(2), object(7)\n",
      "memory usage: 29.8+ KB\n"
     ]
    }
   ],
   "source": [
    "# Información general sobre los datos\n",
    "data = data.drop('Fecha Autorización', axis=1)\n",
    "informacion_general = data.info()\n",
    "\n"
   ]
  },
  {
   "cell_type": "code",
   "execution_count": 34,
   "id": "cc2e778e",
   "metadata": {},
   "outputs": [
    {
     "name": "stdout",
     "output_type": "stream",
     "text": [
      "       Año Modelo         Fecha Autorización Mod Fecha de Ingreso a Taller  \\\n",
      "count         316                            316                       316   \n",
      "mean         2021  2023-07-12 04:19:44.810126592       2023-07-09 12:00:00   \n",
      "min          2006            2023-01-01 00:00:00       2023-01-01 00:00:00   \n",
      "25%          2021            2023-03-01 00:00:00       2023-03-01 00:00:00   \n",
      "50%          2022            2023-07-01 00:00:00       2023-07-01 00:00:00   \n",
      "75%          2023            2023-11-01 00:00:00       2023-11-01 00:00:00   \n",
      "max          2025            2024-05-01 00:00:00       2024-05-01 00:00:00   \n",
      "std             3                            NaN                       NaN   \n",
      "\n",
      "       Valor_Total  Tiempo autorización  \n",
      "count          316                  316  \n",
      "mean       4885333                    3  \n",
      "min           4055                    0  \n",
      "25%        1372317                    0  \n",
      "50%        3226231                    0  \n",
      "75%        6160144                    0  \n",
      "max       53333617                   31  \n",
      "std        6103466                    9  \n"
     ]
    }
   ],
   "source": [
    "# Estadísticas descriptivas\n",
    "estadisticas_descriptivas = data.describe()\n",
    "pd.options.display.float_format = '{:.0f}'.format\n",
    "print(estadisticas_descriptivas)"
   ]
  },
  {
   "cell_type": "code",
   "execution_count": 35,
   "id": "cb0aa390",
   "metadata": {},
   "outputs": [
    {
     "name": "stdout",
     "output_type": "stream",
     "text": [
      "              Frecuencia  Porcentaje\n",
      "Fabricante_x                        \n",
      "MAZDA                120          38\n",
      "SUZUKI               112          35\n",
      "CITROEN               35          11\n",
      "RENAULT               25           8\n",
      "TOYOTA                 8           3\n",
      "HYUNDAI                6           2\n",
      "HONDA                  6           2\n",
      "CHEVROLET              3           1\n",
      "KIA                    1           0\n"
     ]
    }
   ],
   "source": [
    "frecuencia = data['Fabricante_x'].value_counts()\n",
    "\n",
    "# Calcular los porcentajes\n",
    "porcentaje = data['Fabricante_x'].value_counts(normalize=True) * 100\n",
    "\n",
    "# Crear un DataFrame con las estadísticas\n",
    "estadisticas = pd.DataFrame({'Frecuencia': frecuencia, 'Porcentaje': porcentaje})\n",
    "\n",
    "print(estadisticas)"
   ]
  },
  {
   "cell_type": "code",
   "execution_count": 28,
   "id": "24d60b04",
   "metadata": {},
   "outputs": [
    {
     "name": "stdout",
     "output_type": "stream",
     "text": [
      "Placa                        0\n",
      "Fabricante_x                 0\n",
      "Año Modelo                   0\n",
      "Fecha Autorización Mod       0\n",
      "Fecha de Ingreso a Taller    0\n",
      "Razon Social Taller          0\n",
      "Ciudad Taller                0\n",
      "Valor_Total                  0\n",
      "Taller_Autorizado            0\n",
      "Placa_asegurada              0\n",
      "Cumplimiento                 0\n",
      "Tiempo autorización          0\n",
      "dtype: int64\n"
     ]
    }
   ],
   "source": [
    "# Verificar valores nulos\n",
    "valores_nulos = data.isnull().sum()\n",
    "\n",
    "print(valores_nulos)"
   ]
  },
  {
   "cell_type": "code",
   "execution_count": 5,
   "id": "a8cd4400",
   "metadata": {},
   "outputs": [
    {
     "name": "stdout",
     "output_type": "stream",
     "text": [
      "98.14814814814815\n"
     ]
    }
   ],
   "source": [
    "# Verificar integridad de los datos\n",
    "integridad = data.apply(lambda x: np.logical_not(x.isnull().any()), axis=1).sum() / len(data) * 100\n",
    "\n",
    "print(integridad)"
   ]
  },
  {
   "cell_type": "code",
   "execution_count": 6,
   "id": "5f1f244d",
   "metadata": {},
   "outputs": [],
   "source": [
    "placas_aseguradas = pd.read_excel('Prueba_Analista.xlsx', sheet_name='Placas_Aseguradas')\n",
    "talleres_autorizados = pd.read_excel('Prueba_Analista.xlsx', sheet_name='Talleres_Autorizados')\n",
    "\n"
   ]
  },
  {
   "cell_type": "code",
   "execution_count": 7,
   "id": "9f5a00a4",
   "metadata": {},
   "outputs": [],
   "source": [
    "# Verificar si la ciudad del taller está en la hoja de Talleres_Autorizados\n",
    "talleres_no_autorizados = data[~data['Razon Social Taller'].isin(talleres_autorizados['Taller_Reparaciones'])]['Razon Social Taller'].tolist()\n",
    "\n",
    "# Verificar si la placa está en la hoja de Placas_Aseguradas\n",
    "placas_no_aseguradas = data[~data['Placa'].isin(placas_aseguradas['PLACAS_ASEGURADAS'])]['Placa'].tolist()"
   ]
  },
  {
   "cell_type": "code",
   "execution_count": 8,
   "id": "2efc4aa7",
   "metadata": {},
   "outputs": [
    {
     "name": "stdout",
     "output_type": "stream",
     "text": [
      "{'Taller_28', 'Taller_18', 'Taller_19', 'Taller_20', 'Taller_23', 'Taller_31', 'Taller_17', 'Taller_32', 'Taller_29', 'Taller_26', 'Taller_25', 'Taller_21', 'Taller_24', 'Taller_30', 'Taller_27', 'Taller_22'}\n"
     ]
    }
   ],
   "source": [
    "\n",
    "valores_unicos = set(talleres_no_autorizados)\n",
    "print(valores_unicos)"
   ]
  },
  {
   "cell_type": "code",
   "execution_count": 9,
   "id": "4704e36c",
   "metadata": {},
   "outputs": [
    {
     "name": "stdout",
     "output_type": "stream",
     "text": [
      "   Razon Social Taller Cantidad  Valor_Total_Sum\n",
      "1            Taller_18      117     535391949.85\n",
      "0            Taller_28        2       4021271.89\n",
      "3            Taller_20        2       8218039.14\n",
      "6            Taller_17        2       5400628.69\n",
      "2            Taller_19        1       6902496.40\n",
      "4            Taller_23        1      17090872.82\n",
      "5            Taller_31        1       4939714.13\n",
      "7            Taller_32        1      29974980.03\n",
      "8            Taller_29        1      17254676.67\n",
      "9            Taller_26        1       7729468.40\n",
      "10           Taller_25        1             0.00\n",
      "11           Taller_21        1       3106345.39\n",
      "12           Taller_24        1      13149368.18\n",
      "13           Taller_30        1      45205322.56\n",
      "14           Taller_27        1       4561893.24\n",
      "15           Taller_22        1       2842455.29\n"
     ]
    }
   ],
   "source": [
    "# Crear un DataFrame vacío para almacenar los resultados\n",
    "resultados = pd.DataFrame(columns=['Razon Social Taller', 'Cantidad', 'Valor_Total_Sum'])\n",
    "\n",
    "# Iterar sobre los valores únicos y buscar en la columna 'Razon Social Taller'\n",
    "for valor in valores_unicos:\n",
    "    # Filtrar la data por el valor único\n",
    "    filtrado = data[data['Razon Social Taller'] == valor]\n",
    "    \n",
    "    # Contar las veces que aparece y sumar el valor total\n",
    "    cantidad = len(filtrado)\n",
    "    valor_total_sum = filtrado['Valor_Total'].sum()\n",
    "    \n",
    "    # Crear un nuevo DataFrame con los resultados\n",
    "    nuevo_df = pd.DataFrame({'Razon Social Taller': [valor], 'Cantidad': [cantidad], 'Valor_Total_Sum': [valor_total_sum]})\n",
    "    \n",
    "    # Concatenar el nuevo DataFrame al DataFrame de resultados\n",
    "    resultados = pd.concat([resultados, nuevo_df], ignore_index=True)\n",
    "\n",
    "# Mostrar los resultados\n",
    "pd.options.display.float_format = '{:.2f}'.format\n",
    "resultados = resultados.sort_values(by='Cantidad', ascending=False)\n",
    "print(resultados)\n"
   ]
  },
  {
   "cell_type": "code",
   "execution_count": 10,
   "id": "0d019a97",
   "metadata": {},
   "outputs": [
    {
     "name": "stdout",
     "output_type": "stream",
     "text": [
      "{'Placa_135', 'Placa_89', 'Placa_7', 'Placa_221', 'Placa_45', 'Placa_49', 'Placa_120', 'Placa_158', 'Placa_54', 'Placa_256', 'Placa_231', 'Placa_13', 'Placa_83', 'Placa_257', 'Placa_81', 'Placa_199', 'Placa_47', 'Placa_191', 'Placa_43', 'Placa_177', 'Placa_269', 'Placa_293', 'Placa_139', 'Placa_24', 'Placa_108', 'Placa_244', 'Placa_138', 'Placa_20', 'Placa_262', 'Placa_290', 'Placa_195', 'Placa_188', 'Placa_268', 'Placa_239', 'Placa_60', 'Placa_171', 'Placa_205', 'Placa_126', 'Placa_96', 'Placa_104', 'Placa_11', 'Placa_194', 'Placa_259', 'Placa_71', 'Placa_12', 'Placa_154', 'Placa_123', 'Placa_122', 'Placa_116', 'Placa_113', 'Placa_91', 'Placa_251', 'Placa_285', 'Placa_235', 'Placa_266', 'Placa_63', 'Placa_32', 'Placa_163', 'Placa_219', 'Placa_77', 'Placa_3', 'Placa_228', 'Placa_137', 'Placa_52', 'Placa_215', 'Placa_129', 'Placa_35', 'Placa_233', 'Placa_62', 'Placa_189', 'Placa_246', 'Placa_94', 'Placa_283', 'Placa_15', 'Placa_249', 'Placa_227', 'Placa_14', 'Placa_146', 'Placa_22', 'Placa_110', 'Placa_150', 'Placa_86', 'Placa_111', 'Placa_282', 'Placa_132', 'Placa_183', 'Placa_210', 'Placa_208', 'Placa_18', 'Placa_149', 'Placa_252', 'Placa_167', 'Placa_288', 'Placa_6', 'Placa_34', 'Placa_16', 'Placa_182', 'Placa_128', 'Placa_57', 'Placa_153', 'Placa_29', 'Placa_103', 'Placa_271', 'Placa_127', 'Placa_184', 'Placa_28', 'Placa_270', 'Placa_107', 'Placa_152', 'Placa_50', 'Placa_68', 'Placa_74', 'Placa_46', 'Placa_197', 'Placa_39', 'Placa_143', 'Placa_203', 'Placa_190', 'Placa_58', 'Placa_272', 'Placa_72', 'Placa_53', 'Placa_151', 'Placa_234', 'Placa_202', 'Placa_2', 'Placa_10', 'Placa_59', 'Placa_242', 'Placa_209', 'Placa_216', 'Placa_254', 'Placa_23', 'Placa_109', 'Placa_179', 'Placa_79', 'Placa_105', 'Placa_26', 'Placa_207', 'Placa_8', 'Placa_240', 'Placa_185', 'Placa_168', 'Placa_98', 'Placa_296', 'Placa_176', 'Placa_278', 'Placa_263', 'Placa_289', 'Placa_243', 'Placa_55', 'Placa_160', 'Placa_196', 'Placa_260', 'Placa_225', 'Placa_133', 'Placa_61', 'Placa_155', 'Placa_217', 'Placa_134', 'Placa_232', 'Placa_93', 'Placa_31', 'Placa_267', 'Placa_4', 'Placa_212', 'Placa_159', 'Placa_291', 'Placa_102', 'Placa_211', 'Placa_224', 'Placa_5', 'Placa_114', 'Placa_172', 'Placa_220', 'Placa_9', 'Placa_125', 'Placa_44', 'Placa_115', 'Placa_253', 'Placa_30', 'Placa_36', 'Placa_237', 'Placa_66', 'Placa_218', 'Placa_156', 'Placa_142', 'Placa_48', 'Placa_295', 'Placa_148', 'Placa_95', 'Placa_180', 'Placa_145', 'Placa_75', 'Placa_192', 'Placa_223', 'Placa_286', 'Placa_51', 'Placa_118', 'Placa_229', 'Placa_213', 'Placa_187', 'Placa_170', 'Placa_106', 'Placa_161', 'Placa_164', 'Placa_82', 'Placa_255', 'Placa_19', 'Placa_84', 'Placa_178', 'Placa_277', 'Placa_280', 'Placa_144', 'Placa_248', 'Placa_147', 'Placa_198', 'Placa_241', 'Placa_250', 'Placa_76', 'Placa_119', 'Placa_37', 'Placa_1', 'Placa_73', 'Placa_273', 'Placa_41', 'Placa_162', 'Placa_261', 'Placa_201', 'Placa_124', 'Placa_131', 'Placa_236', 'Placa_157', 'Placa_141', 'Placa_99', 'Placa_69', 'Placa_64', 'Placa_173', 'Placa_245', 'Placa_101', 'Placa_140', 'Placa_264', 'Placa_193', 'Placa_40', 'Placa_226', 'Placa_117', 'Placa_274', 'Placa_174', 'Placa_186', 'Placa_276', 'Placa_65', 'Placa_292', 'Placa_21', 'Placa_17', 'Placa_284', 'Placa_169', 'Placa_166', 'Placa_80', 'Placa_33', 'Placa_90', 'Placa_200', 'Placa_67'}\n"
     ]
    }
   ],
   "source": [
    "valores_placas = set(placas_no_aseguradas)\n",
    "print(valores_placas)"
   ]
  },
  {
   "cell_type": "code",
   "execution_count": 11,
   "id": "abb81389",
   "metadata": {},
   "outputs": [
    {
     "name": "stdout",
     "output_type": "stream",
     "text": [
      "         Placa Cantidad  Valor_Total_Sum\n",
      "258   Placa_33        4       2578587.01\n",
      "59    Placa_77        4      25617464.90\n",
      "35   Placa_171        3      13759390.73\n",
      "36   Placa_205        2       8448058.76\n",
      "15   Placa_199        2       7928958.65\n",
      "..         ...      ...              ...\n",
      "97   Placa_128        1      12348373.54\n",
      "98    Placa_57        1       3375171.78\n",
      "99   Placa_153        1       4531615.89\n",
      "100   Placa_29        1       9902254.29\n",
      "261   Placa_67        1       3415978.61\n",
      "\n",
      "[262 rows x 3 columns]\n"
     ]
    }
   ],
   "source": [
    "# Crear un DataFrame vacío para almacenar los resultados\n",
    "resultados_placa = pd.DataFrame(columns=['Placa', 'Cantidad', 'Valor_Total_Sum'])\n",
    "\n",
    "# Iterar sobre los valores únicos y buscar en la columna 'Razon Social Taller'\n",
    "for valor in valores_placas:\n",
    "    # Filtrar la data por el valor único\n",
    "    filtrado = data[data['Placa'] == valor]\n",
    "    \n",
    "    # Contar las veces que aparece y sumar el valor total\n",
    "    cantidad = len(filtrado)\n",
    "    valor_total_sum = filtrado['Valor_Total'].sum()\n",
    "    \n",
    "    # Crear un nuevo DataFrame con los resultados\n",
    "    nuevo_df = pd.DataFrame({'Placa': [valor], 'Cantidad': [cantidad], 'Valor_Total_Sum': [valor_total_sum]})\n",
    "    \n",
    "    # Concatenar el nuevo DataFrame al DataFrame de resultados\n",
    "    resultados_placa = pd.concat([resultados_placa, nuevo_df], ignore_index=True)\n",
    "\n",
    "# Mostrar los resultados\n",
    "pd.options.display.float_format = '{:.2f}'.format\n",
    "resultados_placa = resultados_placa.sort_values(by='Cantidad', ascending=False)\n",
    "print(resultados_placa)"
   ]
  },
  {
   "cell_type": "code",
   "execution_count": null,
   "id": "8eff06ee",
   "metadata": {},
   "outputs": [],
   "source": []
  },
  {
   "cell_type": "code",
   "execution_count": 12,
   "id": "81081415",
   "metadata": {},
   "outputs": [
    {
     "data": {
      "image/png": "[encoded data removed]",
      "text/plain": [
       "<Figure size 1000x600 with 4 Axes>"
      ]
     },
     "metadata": {},
     "output_type": "display_data"
    }
   ],
   "source": [
    "# Visualización de la distribución de los datos\n",
    "data.hist(bins=20, figsize=(10, 6))\n",
    "plt.tight_layout()\n",
    "plt.show()\n",
    "\n"
   ]
  },
  {
   "cell_type": "code",
   "execution_count": 13,
   "id": "ac438bef",
   "metadata": {},
   "outputs": [],
   "source": [
    "# Crear un informe\n",
    "informe = f\"\"\"\n",
    "Información general:\n",
    "{informacion_general}\n",
    "\n",
    "Estadísticas descriptivas:\n",
    "{estadisticas_descriptivas}\n",
    "\n",
    "Valores nulos:\n",
    "{valores_nulos}\n",
    "\n",
    "Integridad de los datos (% de filas sin valores nulos):\n",
    "{integridad:.2f}%\n",
    "\n",
    "\n",
    "\n",
    "Visualización de la distribución de los datos:\n",
    "(Se adjunta gráfico)\n",
    "\"\"\"\n",
    "\n",
    "# Guardar el informe en un archivo\n",
    "with open('informe.txt', 'w') as file:\n",
    "    file.write(informe)\n"
   ]
  },
  {
   "cell_type": "code",
   "execution_count": null,
   "id": "b801a4c4",
   "metadata": {},
   "outputs": [],
   "source": []
  }
 ],
 "metadata": {
  "kernelspec": {
   "display_name": "Python 3 (ipykernel)",
   "language": "python",
   "name": "python3"
  },
  "language_info": {
   "codemirror_mode": {
    "name": "ipython",
    "version": 3
   },
   "file_extension": ".py",
   "mimetype": "text/x-python",
   "name": "python",
   "nbconvert_exporter": "python",
   "pygments_lexer": "ipython3",
   "version": "3.11.5"
  }
 },
 "nbformat": 4,
 "nbformat_minor": 5
}
